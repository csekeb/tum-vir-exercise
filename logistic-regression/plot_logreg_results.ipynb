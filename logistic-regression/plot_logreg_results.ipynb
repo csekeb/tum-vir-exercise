{
 "cells": [
  {
   "cell_type": "code",
   "execution_count": null,
   "id": "5176dc1e",
   "metadata": {},
   "outputs": [],
   "source": [
    "import argparse\n",
    "from box import Box\n",
    "import yaml\n",
    "\n",
    "import pytorch_lightning as pl\n",
    "from pytorch_lightning import Trainer\n",
    "from model_logreg_mvn import ModelLogisicRegressionMvn\n",
    "from dataset_npz import DataModuleFromNPZ\n",
    "\n",
    "import torch\n",
    "import numpy as np\n",
    "\n",
    "import matplotlib\n",
    "import matplotlib.pyplot as plt\n",
    "%matplotlib inline"
   ]
  },
  {
   "cell_type": "markdown",
   "id": "b4124f52",
   "metadata": {},
   "source": [
    "# Load data"
   ]
  },
  {
   "cell_type": "code",
   "execution_count": null,
   "id": "504c5437",
   "metadata": {},
   "outputs": [],
   "source": [
    "pl.seed_everything(2202)\n",
    "dm = DataModuleFromNPZ(\n",
    "    data_dir=\"data_logistic_regression_2d\",\n",
    "    feature_labels=[\"inputs\", \"targets\"],\n",
    "    batch_size=128,\n",
    "    num_workers=4,\n",
    "    shuffle_training=False\n",
    ")"
   ]
  },
  {
   "cell_type": "markdown",
   "id": "956d37e1",
   "metadata": {},
   "source": [
    "# Train or load a model"
   ]
  },
  {
   "cell_type": "code",
   "execution_count": null,
   "id": "0e00e9bb",
   "metadata": {},
   "outputs": [],
   "source": [
    "if False: #switch to True to train and save a model within this notebook, switch back to False to evaluate\n",
    "    dm.prepare_data()\n",
    "    dm.setup(stage=\"fit\")\n",
    "    model = ModelLogisicRegressionMvn(\n",
    "            2,\n",
    "            dm.size_train(),\n",
    "            scale_prior=10.0,\n",
    "            optimizer_name=\"RMSprop\", \n",
    "            optimizer_lr=0.1,\n",
    "            save_path=\"runs/models/debug\")\n",
    "    trainer = Trainer(max_epochs=50)\n",
    "    trainer.fit(model, dm)\n",
    "    trainer.test(model, dm)\n",
    "    model.eval()\n",
    "else:\n",
    "    dm.prepare_data()\n",
    "    dm.setup(stage=\"fit\")\n",
    "    SAVE_PATH = \"runs/models/debug/loss_val-epoch=41-step=336.ckpt\" # change this to your saved model in the same directory!!!\n",
    "    model = ModelLogisicRegressionMvn.load_from_checkpoint(SAVE_PATH, size_data=dm.size_train())\n",
    "    dm.setup(stage=\"test\")\n",
    "    trainer = Trainer()\n",
    "    trainer.test(model, dm)\n",
    "    model.eval()\n",
    "    "
   ]
  },
  {
   "cell_type": "markdown",
   "id": "34c3585e",
   "metadata": {},
   "source": [
    "# Load all training and testing data for plotting"
   ]
  },
  {
   "cell_type": "code",
   "execution_count": null,
   "id": "35056ff9",
   "metadata": {},
   "outputs": [],
   "source": [
    "dm_plotting = DataModuleFromNPZ(\n",
    "    data_dir=\"data_logistic_regression_2d\",\n",
    "    feature_labels=[\"inputs\", \"targets\"],\n",
    "    batch_size=-1,\n",
    "    num_workers=4,\n",
    "    shuffle_training=False\n",
    ")\n",
    "dm_plotting.prepare_data()\n",
    "dm_plotting.setup(stage=\"fit\")\n",
    "for f,l in dm_plotting.train_dataloader():\n",
    "    features_train, labels_train = f, l\n",
    "dm_plotting.setup(stage=\"test\")\n",
    "for f,l in dm_plotting.test_dataloader():\n",
    "    features_test, labels_test = f, l"
   ]
  },
  {
   "cell_type": "markdown",
   "id": "e076245c",
   "metadata": {},
   "source": [
    "# Compute class probabilities for plotting"
   ]
  },
  {
   "cell_type": "code",
   "execution_count": null,
   "id": "a9b9561f",
   "metadata": {},
   "outputs": [],
   "source": [
    "x, y = np.meshgrid(np.arange(-1.1,1.1,0.025), np.arange(-1.1,1.1,0.025))\n",
    "features_plot = np.concatenate([x.reshape((-1,1)), y.reshape((-1,1))], axis=-1)\n",
    "p_plot = model(torch.tensor(features_plot, dtype=torch.float32)).detach().cpu().numpy().reshape(x.shape)"
   ]
  },
  {
   "cell_type": "markdown",
   "id": "fa4a9c1d",
   "metadata": {},
   "source": [
    "# Plot"
   ]
  },
  {
   "cell_type": "code",
   "execution_count": null,
   "id": "83f4e63a",
   "metadata": {},
   "outputs": [],
   "source": [
    "fig, ax = plt.subplots(1,2, figsize=(20,10))\n",
    "\n",
    "Ip = np.argwhere(labels_train[:] > 0.5)\n",
    "In = np.argwhere(labels_train[:] < 0.5)\n",
    "ax[0].contourf(x, y, p_plot, 50, cmap=plt.get_cmap(\"gray\"))\n",
    "ax[0].plot(features_train[Ip,0], features_train[Ip,1], \".\", color = \"red\")\n",
    "ax[0].plot(features_train[In,0], features_train[In,1], \".\", color = \"blue\")\n",
    "ax[0].set_title(\"Train data\")\n",
    "\n",
    "Ip = np.argwhere(labels_test[:] > 0.5)\n",
    "In = np.argwhere(labels_test[:] < 0.5)\n",
    "ax[1].contourf(x, y, p_plot, 50, cmap=plt.get_cmap(\"gray\"))\n",
    "ax[1].plot(features_test[Ip,0], features_test[Ip,1], \".\", color = \"red\")\n",
    "ax[1].plot(features_test[In,0], features_test[In,1], \".\", color = \"blue\")\n",
    "ax[1].set_title(\"Test data\")\n",
    "\n"
   ]
  },
  {
   "cell_type": "markdown",
   "id": "0a8fbe2c",
   "metadata": {},
   "source": [
    "# Print model parameters"
   ]
  },
  {
   "cell_type": "code",
   "execution_count": null,
   "id": "7de5078b",
   "metadata": {},
   "outputs": [],
   "source": [
    "print(\"Learned distribution parameters\")\n",
    "print(\"weights mean\")\n",
    "print(model.weights_loc.detach().cpu().numpy())\n",
    "print(\"weights covariance\")\n",
    "L = model.weights_chol().detach().cpu().numpy()\n",
    "print(np.matmul(L,L.T))"
   ]
  },
  {
   "cell_type": "code",
   "execution_count": null,
   "id": "227af761",
   "metadata": {},
   "outputs": [],
   "source": []
  }
 ],
 "metadata": {
  "kernelspec": {
   "display_name": "Python 3 (ipykernel)",
   "language": "python",
   "name": "python3"
  },
  "language_info": {
   "codemirror_mode": {
    "name": "ipython",
    "version": 3
   },
   "file_extension": ".py",
   "mimetype": "text/x-python",
   "name": "python",
   "nbconvert_exporter": "python",
   "pygments_lexer": "ipython3",
   "version": "3.9.10"
  }
 },
 "nbformat": 4,
 "nbformat_minor": 5
}
